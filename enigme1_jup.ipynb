{
 "cells": [
  {
   "attachments": {},
   "cell_type": "markdown",
   "metadata": {},
   "source": [
    "# Énigme 1: Chiffrement de César\n",
    "\n",
    "![portait de César](https://www.babelio.com/users/AVT_Jules-Cesar_4390.jpg)\n",
    "\n",
    "César a souvent utilisé des codes pour transmettre des messages à son armée. Ainsi, si le message était saisi par l’ennemi, le message était incompréhensible.<br>\n",
    "Parmi ceux qu’il a utilisé, nous allons étudier la méthode de codage par le chiffre de César.<br>\n",
    "Il est assez simple à comprendre, notre alphabet usuel est simplement remplacé par le même alphabet qui aurait subi un glissement valant le fameux chiffre de César, qui sera notre clé de cryptage/décryptage.<br>\n",
    "<br>\n",
    "Ainsi, si la clé vaut 2, chaque lettre de notre alphabet en 1ère ligne devient la lettre de l’alphabet en 2nde ligne :<br>\n",
    "|\n"
   ]
  },
  {
   "cell_type": "markdown",
   "metadata": {},
   "source": [
    "|alphabet de départ| ** | ** | a  | b  | c  | d  | e  | f  | g  | h  | i  | j  | k  | l  | m  | n  | o  | p  | q  | r  | s  | t  | u  | v  | w  | x  | y  | z  |\n",
    "|:--:|:--:|:--:|:--:|:--:|:--:|:--:|:--:|:--:|:--:|:--:|:--:|:--:|:--:|:--:|:--:|:--:|:--:|:--:|:--:|:--:|:--:|:--:|:--:|:--:|:--:|:--:|:--:|:--:|\n",
    "|alphabet de codage| a  | b  | c  | d  | e  | f  | g  | h  | i  | j  | k  | l  | m  | n  | o  | p  | q  | r  | s  | t  | u  | v  | w  | x  | y  | z  | **  | **  |\n"
   ]
  },
  {
   "attachments": {},
   "cell_type": "markdown",
   "metadata": {},
   "source": [
    "Avec une clé de 2, le message « premiere » devient « rtgokgtg ».<br>\n",
    "En effet, le \"p\" est codé en \"r\", le \"r\" en \"t\", le \"e\" en \"g\" et ainsi de suite.<br>\n",
    "Pour décoder le message, il suffit de faire l’opération inverse.<br>\n",
    "\n"
   ]
  },
  {
   "attachments": {},
   "cell_type": "markdown",
   "metadata": {},
   "source": [
    "Votre première mission, en tant que cryptographe, sera de déchiffrer un message qui est codé selon ce principe.\n",
    "\n",
    "Pour cela, nous allons nous servir de Python pour décoder un message:\n",
    "\n",
    "Je vous fournirai la fin du code, mais vous allez avoir besoin de créer une liste avec le nouvel alphabet si l’on donne la clé du code.\n",
    "\n",
    "C’est-à-dire, si la clé est 2, mon programme doit me retourner :\n",
    "['y', 'z', 'a', 'b', 'c', 'd', 'e', 'f', 'g', 'h', 'i', 'j', 'k', 'l', 'm', 'n', 'o', 'p', 'q', 'r', 's', 't', 'u', 'v', 'w', 'x']\n",
    "\n",
    "Il s’agit de notre alphabet de décodage.<br>\n",
    "Si nous avons un \"y\" dans le message codé, nous le remplacerons par un \"a\", si nous avons un \"z\", par un \"b\", un \"a\" par un \"c\", un \"b\" par un \"d\" est ainsi de suite...<br>\n",
    "\n",
    "Pour tester votre algorithme, rentrez un décalage de 2, et vous devez obtenir en retour la liste alphabet2 comme ci-dessus.\n",
    "\n",
    "Pour cela, je vous fournis le début du programme, à vous de le compléter en modifiant les ...\n"
   ]
  },
  {
   "cell_type": "code",
   "execution_count": null,
   "metadata": {},
   "outputs": [],
   "source": [
    "decalage = int(input(\"Valeur du décalage?\"))\n",
    "\n",
    "alphabet = list('abcdefghijklmnopqrstuvwxyz')\n",
    "alphabet2 = list('abcdefghijklmnopqrstuvwxyz')\n",
    "\n",
    "...\n",
    "    \n",
    "print(alphabet2)"
   ]
  },
  {
   "attachments": {},
   "cell_type": "markdown",
   "metadata": {},
   "source": [
    "Maintenant que vous avez travaillé à l'alphabet de décodage. Vous allez remplacer les ... du programme ci-dessous, afin d'avoir un algoritme de décryptage entier.<br>\n",
    "À vous de trouver la clé afin de déchiffrer cette phrase (les espaces ont été enlevés) :<br><br>\n",
    "<center>yryvierqrynangherrfgrpevgqnafhaynatntrzngurzngvdhr</center><br>\n",
    "\n",
    "La réponse à la première énigme est l’auteur de cette citation..\n"
   ]
  },
  {
   "cell_type": "code",
   "execution_count": null,
   "metadata": {},
   "outputs": [],
   "source": [
    "...\n",
    "\n",
    "phrase = input(\"Ecrivez la phrase à décoder en supprimant les espaces:\")\n",
    "phrase_decod=[]\n",
    "\n",
    "\n",
    "for lettre in phrase:\n",
    "    phrase_decod.append(alphabet2[(ord(lettre)-97)%26])\n",
    "    \n",
    "print ('La phrase codée est:',''.join(str(elem) for elem in phrase_decod))"
   ]
  },
  {
   "cell_type": "code",
   "execution_count": null,
   "metadata": {},
   "outputs": [],
   "source": []
  }
 ],
 "metadata": {
  "kernelspec": {
   "display_name": "Python 3",
   "language": "python",
   "name": "python3"
  },
  "language_info": {
   "codemirror_mode": {
    "name": "ipython",
    "version": 3
   },
   "file_extension": ".py",
   "mimetype": "text/x-python",
   "name": "python",
   "nbconvert_exporter": "python",
   "pygments_lexer": "ipython3",
   "version": "3.7.4"
  }
 },
 "nbformat": 4,
 "nbformat_minor": 2
}
