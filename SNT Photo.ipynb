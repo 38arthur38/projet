{
 "cells": [
  {
   "cell_type": "markdown",
   "metadata": {},
   "source": [
    "# COLORATION DE PIXEL"
   ]
  },
  {
   "cell_type": "markdown",
   "metadata": {},
   "source": [
    "# Première partie : Notion d’image numérique \n",
    "Voici un écran d’iPhone 5s zoomé à la loupe binoculaire. Chaque pixel (contraction de picture element) peut donc se décomposer en trois sous-pixels de couleur rouge, verte ou bleue. \n",
    "<img style=\"float: right;\" src=\"images/pixel.png\">\n",
    "<br/> <p style=\"text-align:justify\">Grâce au site http://physique.ostralo.net/images, dans l’onglet « Les couleurs d’une image » , observer comment le réglage de l’intensité des 3 sous-pixels rouge, vert et bleu peut générer une multitude de couleurs.</p>\n",
    "<p style=\"text-align:justify\">\n",
    "Vous pourrez parcourir le reste des onglets.<br/><br/>\n",
    "La perception « uniforme » pour l’œil, qui ne distingue pas (sauf à la loupe) le détail des sous-pixels mais simplement une couleur globale, est due au pouvoir de résolution limité de l’œil humain. Sachant que chaque sous-pixel (rouge, vert ou bleu) possède 256 nuances possibles (codée chacune de 0 à 255), combien de couleurs différentes peuvent être générées par ces 3 sous-pixels ?</p>\n"
   ]
  },
  {
   "cell_type": "markdown",
   "metadata": {},
   "source": [
    "# Deuxième partie : Avec votre smartphone \n",
    "On peut constater des différences dans l’agencement ou la forme des pixels (et sous-pixels), suivant le modèle de smartphone observé :\n",
    "<img src=\"images/pixel_tel.png\">\n",
    "<p style=\"text-align:justify\">\n",
    "Deux notions (très souvent confondues) sont à connaître :\n",
    "    \n",
    "* **Définition d’un écran :** <br/>\n",
    "c’est le nombre de pixels qui composent l’écran. \n",
    "Attention, on ne parle pas ici des sous-pixels rouge, vert, bleu, mais bien du pixel global créé par la réunion de ces trois sous-pixels. \n",
    "<img style=\"float: left;\" src=\"images/def_TV.png\">\n",
    "Cette définition est par exemple donnée sous la forme 1920 × 1080.\n",
    "\n",
    "Cela signifie que l’écran comporte 2 073 600 (= 1920 × 1080) pixels répartis uniformément sur toute sa surface. On dit que 1920 × 1080 est la définition native de l’écran. Lorsque dans les réglages de votre ordinateur, on vous propose de changer la « résolution » (confusion de vocabulaire !), en la baissant par exemple à 1280 × 720, les 2 073 600 pixels de cet écran restent bien présents mais se regroupent pour simuler un écran comportant moins de pixels : la qualité d’affichage se trouve alors dégradée. <br/><br/><br/>\n",
    "* **Résolution d’un écran**, généralement exprimée en dpi (dot per inch) ou ppi (pixel per inch) :<br/> \n",
    "elle mesure donc le nombre de pixels disponibles sur une longueur de 1 pouce, soit environ 2,54 cm. Plus ce nombre est élevé, plus la taille des pixels est réduite, et plus l’image paraît donc précise. \n",
    "\n",
    "La confusion entre ces deux notions est due, notamment, à leur traduction anglaise. « Définition » est traduit par « display resolution » alors que « résolution » est traduit par « pixel density ». On voit bien l’apparition du faux-ami « resolution/résolution ». </p>\n",
    "\n",
    "1. Rechercher la définition de votre écran de smartphone. \n",
    "2. Mesurer la largeur de l’écran de votre téléphone, et convertir cette mesure en pouces. \n",
    "3. Calculer alors la résolution de votre écran (exprimée en pixels par pouce). Vous pouvez comparer votre mesure avec les renseignements trouvés dans les spécifications de votre téléphone. Vous pouvez aussi vérifier vos calculs grâce au site http://www.pxcalc.com/. \n",
    "4. Un téléviseur UltraHD possède un écran dont la définition est égale à 3840 × 2160 pixels. Voici ses spécifications :\n",
    "<img style=\"float: left;\" src=\"images/tableau_tv.png\">\n",
    "* Le constructeur a-t-il respecté les définitions des deux notions vues ci-dessus ? \n",
    "\n",
    "* Sachant qu’une taille d’écran de 55 pouces (la longueur de sa diagonale) signifie que sa largeur mesure environ 48 pouces, et sa hauteur 27 pouces, calculer la résolution de cet écran de télévision. \n",
    "\n",
    "* Comparer avec les résolutions de vos écrans de téléphone calculées à la question 3. \n",
    "\n",
    "* Pourquoi les fabricants de téléviseurs ne font-ils pas de la résolution de leurs écrans un argument publicitaire ?\n",
    "\n",
    "\n"
   ]
  },
  {
   "cell_type": "markdown",
   "metadata": {},
   "source": [
    "# Troisième partie : Usage de Python pour créer une image \n",
    "\n",
    "Sur un écran d’ordinateur (ou de smartphone, de calculatrice...), chaque pixel est repéré par deux coordonnées, le pixel de coordonnées (0,0) étant le pixel en haut à gauche de l’écran, celui de coordonnées (1,0) le deuxième pixel de la première ligne, etc.\n",
    "\n",
    "<img style=\"float: right;\" src=\"images/tableau_pixel.png\">\n",
    "<br/><br/><br/>\n",
    "Voici comment on pourrait représenter par exemple un écran de 64 pixels :\n",
    "<br/><br/><br/>\n",
    "\n",
    "<br/><br/><br/><br/><br/><br/>\n",
    "\n",
    "Voici un nouveau programme Python:\n"
   ]
  },
  {
   "cell_type": "code",
   "execution_count": 6,
   "metadata": {},
   "outputs": [],
   "source": [
    "from PIL import Image\n",
    "img = Image.new(\"RGB\", (8,8))"
   ]
  },
  {
   "cell_type": "markdown",
   "metadata": {},
   "source": [
    "La première ligne permet de charger la librairie Image et la seconde de créer une image de 64 pixels (pour l’instant, tous de couleur noire). <br/><br/>\n",
    "On ajoute la ligne ci-dessous qui permet de colorer le pixel en haut à gauche (de coordonnées (0,0)) en rouge (on précise, en effet, que le sous-pixel rouge est à 255, le vert à 0 et le bleu à 0)."
   ]
  },
  {
   "cell_type": "code",
   "execution_count": 7,
   "metadata": {},
   "outputs": [],
   "source": [
    "img.putpixel((0,0),(255,0,0))"
   ]
  },
  {
   "cell_type": "markdown",
   "metadata": {},
   "source": [
    "La ligne ci-dessous permet de visualiser l’image (ne pas hésiter à zoomer pour bien voir le pixel rouge)."
   ]
  },
  {
   "cell_type": "code",
   "execution_count": 8,
   "metadata": {},
   "outputs": [],
   "source": [
    "img.show()"
   ]
  },
  {
   "cell_type": "markdown",
   "metadata": {},
   "source": [
    "## Réaliser les étapes suivantes (à faire valider par l’enseignant une par une) : \n",
    "1. Modifier le programme pour colorer en rouge uniquement le deuxième pixel de la première ligne puis uniquement le troisième. \n"
   ]
  },
  {
   "cell_type": "code",
   "execution_count": null,
   "metadata": {},
   "outputs": [],
   "source": [
    "from PIL import Image\n",
    "img = Image.new(\"RGB\", (8,8))\n"
   ]
  },
  {
   "cell_type": "markdown",
   "metadata": {},
   "source": [
    "2. Modifier le programme pour colorer en rouge toute la première ligne. La méthode trouvée est-elle la plus concise ? "
   ]
  },
  {
   "cell_type": "code",
   "execution_count": null,
   "metadata": {},
   "outputs": [],
   "source": [
    "from PIL import Image\n",
    "img = Image.new(\"RGB\", (8,8))\n",
    "\n"
   ]
  },
  {
   "cell_type": "markdown",
   "metadata": {},
   "source": [
    "3. Modifier à nouveau le programme pour colorer en rouge uniquement la deuxième ligne, puis uniquement la troisième ligne. "
   ]
  },
  {
   "cell_type": "code",
   "execution_count": null,
   "metadata": {},
   "outputs": [],
   "source": [
    "from PIL import Image\n",
    "img = Image.new(\"RGB\", (8,8))\n"
   ]
  },
  {
   "cell_type": "markdown",
   "metadata": {},
   "source": [
    "4. Trouver comment colorer en rouge toutes les lignes de l’image, de la façon la plus simple possible. "
   ]
  },
  {
   "cell_type": "code",
   "execution_count": null,
   "metadata": {},
   "outputs": [],
   "source": [
    "from PIL import Image\n",
    "img = Image.new(\"RGB\", (8,8))\n"
   ]
  },
  {
   "cell_type": "markdown",
   "metadata": {},
   "source": [
    "5. Afin de pouvoir facilement changer de couleur, créer une fonction creation_image utilisant un paramètre nommé couleur qui contiendra le code actuel du programme (uniquement la première ligne figure ci-dessous)."
   ]
  },
  {
   "cell_type": "code",
   "execution_count": null,
   "metadata": {},
   "outputs": [],
   "source": [
    "def creation_image(couleur) :\n",
    "    img = Image.new(\"RGB\", (8,8))\n"
   ]
  },
  {
   "cell_type": "markdown",
   "metadata": {},
   "source": [
    "7. Pour aller plus loin : réaliser une image avec un dégradé."
   ]
  },
  {
   "cell_type": "code",
   "execution_count": null,
   "metadata": {},
   "outputs": [],
   "source": []
  }
 ],
 "metadata": {
  "kernelspec": {
   "display_name": "Python 3",
   "language": "python",
   "name": "python3"
  },
  "language_info": {
   "codemirror_mode": {
    "name": "ipython",
    "version": 3
   },
   "file_extension": ".py",
   "mimetype": "text/x-python",
   "name": "python",
   "nbconvert_exporter": "python",
   "pygments_lexer": "ipython3",
   "version": "3.7.4"
  }
 },
 "nbformat": 4,
 "nbformat_minor": 4
}
